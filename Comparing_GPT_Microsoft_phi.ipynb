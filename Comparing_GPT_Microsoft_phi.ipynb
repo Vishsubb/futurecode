{
  "cells": [
    {
      "cell_type": "markdown",
      "metadata": {
        "id": "view-in-github",
        "colab_type": "text"
      },
      "source": [
        "<a href=\"https://colab.research.google.com/github/Vishsubb/futurecode/blob/main/Comparing_GPT_Microsoft_phi.ipynb\" target=\"_parent\"><img src=\"https://colab.research.google.com/assets/colab-badge.svg\" alt=\"Open In Colab\"/></a>"
      ]
    },
    {
      "cell_type": "markdown",
      "metadata": {
        "id": "kXaHpbiL7yro"
      },
      "source": [
        "# Setup\n",
        "\n",
        "Before we dive into the project, we need to set up our environment. This involves installing the necessary Python libraries and importing them for use in this notebook.\n",
        "\n",
        "## Installing Libraries\n",
        "\n",
        "Run the following cell to install the required libraries.\n"
      ]
    },
    {
      "cell_type": "code",
      "execution_count": null,
      "metadata": {
        "colab": {
          "base_uri": "https://localhost:8080/"
        },
        "id": "M1WW3nMn4tVg",
        "outputId": "6e8caf3c-8947-4faf-930d-1c3cc9b90a3c"
      },
      "outputs": [
        {
          "output_type": "stream",
          "name": "stdout",
          "text": [
            "Requirement already satisfied: tiktoken in /usr/local/lib/python3.10/dist-packages (0.5.1)\n",
            "Requirement already satisfied: regex>=2022.1.18 in /usr/local/lib/python3.10/dist-packages (from tiktoken) (2023.6.3)\n",
            "Requirement already satisfied: requests>=2.26.0 in /usr/local/lib/python3.10/dist-packages (from tiktoken) (2.31.0)\n",
            "Requirement already satisfied: charset-normalizer<4,>=2 in /usr/local/lib/python3.10/dist-packages (from requests>=2.26.0->tiktoken) (3.3.2)\n",
            "Requirement already satisfied: idna<4,>=2.5 in /usr/local/lib/python3.10/dist-packages (from requests>=2.26.0->tiktoken) (3.4)\n",
            "Requirement already satisfied: urllib3<3,>=1.21.1 in /usr/local/lib/python3.10/dist-packages (from requests>=2.26.0->tiktoken) (2.0.7)\n",
            "Requirement already satisfied: certifi>=2017.4.17 in /usr/local/lib/python3.10/dist-packages (from requests>=2.26.0->tiktoken) (2023.7.22)\n"
          ]
        }
      ],
      "source": [
        "#!pip install tiktoken\n",
        "!pip install transformers datasets --quiet\n",
        "!pip install scikit-learn --quiet\n",
        "!pip install openai --quiet\n",
        "!pip install einops --quiet"
      ]
    },
    {
      "cell_type": "markdown",
      "metadata": {
        "id": "IKrSjFwn8BIG"
      },
      "source": [
        "## Importing Libraries\n",
        "\n"
      ]
    },
    {
      "cell_type": "code",
      "execution_count": null,
      "metadata": {
        "id": "GpyX9Bdv8Ahi"
      },
      "outputs": [],
      "source": [
        "from datasets import get_dataset_config_names, load_dataset\n",
        "from collections import Counter, defaultdict\n",
        "import matplotlib.pyplot as plt\n",
        "import random\n",
        "from typing import List, Dict, Any, Union, Generator, Callable\n",
        "from transformers import AutoModelForCausalLM, AutoModelForSequenceClassification, AutoConfig, AutoTokenizer\n",
        "import openai\n",
        "from getpass import getpass\n",
        "from tqdm import tqdm\n",
        "from sklearn.metrics import accuracy_score, f1_score\n",
        "import torch\n",
        "import matplotlib.pyplot as plt\n",
        "import numpy as np\n",
        "import json\n",
        "# import unittest\n",
        "# from unittest.mock import Mock\n",
        "\n",
        "torch_device = \"cuda\" if torch.cuda.is_available() else \"cpu\"\n",
        "torch.set_default_device(torch_device)"
      ]
    },
    {
      "cell_type": "markdown",
      "metadata": {
        "id": "31p0-kTR8bsl"
      },
      "source": [
        "# Data for evaluation\n",
        "\n",
        "## Dataset\n",
        "\n",
        "Using Financial Phrasebank dataset for this activity. This dataset contains sentences extracted from financial news articles, each labeled with a sentiment category.\n",
        "\n",
        "## Loading the Dataset\n",
        "\n",
        "We'll use the Financial Phrasebank dataset available on Hugging Face. we will use the entences_50agree configuration.\n",
        "\n",
        "## Splitting Data\n",
        "\n",
        "Load the dataset and then split it into training and test sets."
      ]
    },
    {
      "cell_type": "code",
      "execution_count": null,
      "metadata": {
        "id": "W925WpK08y0N"
      },
      "outputs": [],
      "source": [
        "# List available configurations\n",
        "configs = get_dataset_config_names(\"financial_phrasebank\")\n",
        "\n",
        "# Load the dataset with the 'sentences_50agree' configuration\n",
        "phrasebank = load_dataset(\"financial_phrasebank\", \"sentences_50agree\")\n",
        "\n",
        "# Split the 'train' data into training and test sets\n",
        "phrasebank_split = phrasebank[\"train\"].train_test_split(test_size=0.1, shuffle=True)"
      ]
    },
    {
      "cell_type": "code",
      "execution_count": null,
      "metadata": {
        "id": "e__nEKb5_I8f"
      },
      "outputs": [],
      "source": [
        "print (phrasebank)"
      ]
    },
    {
      "cell_type": "markdown",
      "metadata": {
        "id": "1AylXBtYG_fm"
      },
      "source": [
        "## Data Exploration\n",
        "\n",
        "This is how the data is:"
      ]
    },
    {
      "cell_type": "code",
      "execution_count": null,
      "metadata": {
        "colab": {
          "base_uri": "https://localhost:8080/"
        },
        "id": "j-0A5fQ48y4b",
        "outputId": "6d87d865-ad6b-48c7-e1bd-f5ddd67dddf8"
      },
      "outputs": [
        {
          "output_type": "stream",
          "name": "stdout",
          "text": [
            "Sample 1:\n",
            "Text: Of Bavelloni 's and NST 's joint ventures , Bavelloni Tools , completes semiproducts that are produced in Italy into high-quality tools that will be sold under the DiaPol brand .\n",
            "Label: 1 (0: Negative, 1: Neutral, 2: Positive)\n",
            "---\n",
            "Sample 2:\n",
            "Text: The new agreement , which expands a long-established cooperation between the companies , involves the transfer of certain engineering and documentation functions from Larox to Etteplan .\n",
            "Label: 2 (0: Negative, 1: Neutral, 2: Positive)\n",
            "---\n",
            "Sample 3:\n",
            "Text: The currency effect had a 3.0 pct , or 20 mln euro ( $ 31.3 mln ) , negative impact on the revenue .\n",
            "Label: 0 (0: Negative, 1: Neutral, 2: Positive)\n",
            "---\n",
            "Sample 4:\n",
            "Text: Veracel is preparing an appeal in the issue and has asked the court for clarification of the judgement .\n",
            "Label: 1 (0: Negative, 1: Neutral, 2: Positive)\n",
            "---\n",
            "Sample 5:\n",
            "Text: The authorisation is in force until the end of the next Annual General Meeting and repeals the authorisation to acquire own shares given by the General Meeting held on April 4 , 2007 .\n",
            "Label: 1 (0: Negative, 1: Neutral, 2: Positive)\n",
            "---\n"
          ]
        }
      ],
      "source": [
        "# Randomly pick 5 samples from the training set\n",
        "random_samples = random.choices(phrasebank_split['train'], k=5)\n",
        "\n",
        "# Display the samples\n",
        "for i, sample in enumerate(random_samples):\n",
        "    print(f\"Sample {i+1}:\")\n",
        "    print(f\"Text: {sample['sentence']}\")\n",
        "    print(f\"Label: {sample['label']} (0: Negative, 1: Neutral, 2: Positive)\")\n",
        "    print(\"---\")\n"
      ]
    },
    {
      "cell_type": "markdown",
      "metadata": {
        "id": "-b1Y5qQjLXtC"
      },
      "source": [
        "# Few-Shot Learning\n",
        "\n",
        "Few-shot learning  to evaluate performance of decoder models like Phi-1.5 and ChatGPT.\n",
        "\n",
        "This function helps to generae n-shot training records for every test record.\n",
        "\n",
        "TBD: What is difference between using generator and returning a list\n",
        "\n",
        "Each example will have the following format:\n",
        "\n",
        "A one-shot example would look like:\n",
        "```text\n",
        "Classify the sentiment (negative, neutral, positive) of the following statement:\n",
        "[Finnish Raisio ( Diagnostics ) is launching new DNA-based quick tests to ensure the safety of food .]\n",
        "Reponse: positive\n",
        "[Export declined by 6 percent to 16.4 million liters]\n",
        "Reponse:\n",
        "```\n",
        "A two-shot example would look like:\n",
        "```text\n",
        "Classify the sentiment (negative, neutral, positive) of the following statement:\n",
        "[Finnish meat company Atria can no longer promise a sufficient amount of domestic beef to its customers .]\n",
        "Reponse: negative\n",
        "[Finnish Raisio ( Diagnostics ) is launching new DNA-based quick tests to ensure the safety of food .]\n",
        "Reponse: positive\n",
        "[Export declined by 6 percent to 16.4 million liters]\n",
        "Reponse:\n",
        "```\n",
        "\n"
      ]
    },
    {
      "cell_type": "code",
      "execution_count": null,
      "metadata": {
        "id": "WPVL0GCkLpYT",
        "colab": {
          "base_uri": "https://localhost:8080/"
        },
        "outputId": "427bcf08-3a25-4cf6-a1fa-cc66de793286"
      },
      "outputs": [
        {
          "output_type": "stream",
          "name": "stdout",
          "text": [
            "Classify the sentiment (negative, neutral, positive) of the following statement:\n",
            "[Profit for the period was EUR 15.6 mn compared to EUR 14.1 mn in 2007 .]\n",
            "Response: positive\n",
            "[Glaston 's well-known brands are Bavelloni , in pre-processing machines and tools , Tamglass and Uniglass in safety glass machines and Albat + Wirsam in software solutions .]\n",
            "Response: neutral\n",
            "[Earlier today , Geberit 's Finnish rival Uponor OYJ cut its full-year sales growth forecast to 6 pct from 10 pct , blaming tough conditions in Germany and the US , as well as currency factors .]\n",
            "Response: negative\n",
            "[Vaahto Pulp & Paper , of Finnish Vaahto Group , has been awarded an order to renovate Finnish-Swedish forest industry company Stora Enso 's paperboard machine at the Ingerois Board Mill in Finland .]\n",
            "Response: positive\n",
            "[Olli-Pekka Kallasvuo was elected as vice chairman of the Board .]\n",
            "Response: neutral\n",
            "[CORPORATE IT UPDATE - ( C ) 1995-2009 M2 COMMUNICATIONS LTD Finnish technology group Teleste Corporation ( OMX Helsinki : TLT1V ) reported on Wednesday ( 4 February ) an operating profit of EUR5 .6 m on net sales of EUR108 .7 m for the year 2008 .]\n",
            "Response:\n",
            "\n",
            "neutral\n",
            "\n",
            "Classify the sentiment (negative, neutral, positive) of the following statement:\n",
            "[And when it has lifted the veil on the various types of customer for which it designs its phones , the result is social stereotyping taken to a fine art .]\n",
            "Response: neutral\n",
            "[Based on strong customer interest and feedback , using RPM mobile phone manufacturers , operators , enterprises and developer forums can significantly increase their product and service quality , user-experience and cost-efficiency '' , Tulonen continues .]\n",
            "Response: positive\n",
            "[Loss for the period totalled EUR 15.6 mn compared to a profit of EUR 6.3 mn in 2008 .]\n",
            "Response: negative\n",
            "[Employing 112 in Finland and 280 abroad , the unit recorded first-quarter 2007 sales of 8.6 mln eur , with an operating loss of 1.6 mln eur .]\n",
            "Response: negative\n",
            "[Finnish Suominen Flexible Packaging Ltd , owned by local textile company Suominen Corporation Group ( HEL : SUY1V ) , said today that it would start employee negotiations concerning its entire personnel in Finland .]\n",
            "Response: negative\n",
            "[Castecka said the town hall would hold talks with other investors interested in the zone .]\n",
            "Response:\n",
            "\n",
            "neutral\n",
            "\n"
          ]
        }
      ],
      "source": [
        "def generate_n_shot_examples(prompt: str,\n",
        "                             train_set: List[Dict[str, Any]],\n",
        "                             test_set: List[Dict[str, Any]],\n",
        "                             n: int) -> Generator[str, None, None]:\n",
        "    \"\"\"\n",
        "    Generates simple n-shot examples.\n",
        "\n",
        "    This function selects the next 'n' examples from the training set and appends them\n",
        "    to each query from the test set to create n-shot learning examples. for example if training set contains 100 records and n = 5, one can create\n",
        "    20 5-shot learning records. but  if there are only 25 records in test, we still can only create 20 5-shot learning records\n",
        "\n",
        "    Args:\n",
        "        prompt: The prompt text to be used for the few-shot examples.\n",
        "        train_set: The training set, a list of dictionaries containing 'sentence' and 'label' keys.\n",
        "        test_set: The test set, a list of dictionaries containing 'sentence' and 'label' keys.\n",
        "        n: The number of examples to select from the training set.\n",
        "\n",
        "    Yields:\n",
        "        A sample, label representing an n-shot example.\n",
        "    \"\"\"\n",
        "\n",
        "    sentiment_labels = {0: 'negative', 1: 'neutral', 2: 'positive'}\n",
        "\n",
        "\n",
        "\n",
        "    # Calculate how many samples can be created from the test set length, train set length, and n\n",
        "    if n != 0 and len(train_set) >= n:\n",
        "        n_samples = min(len(test_set), len(train_set) //n )\n",
        "    else:\n",
        "        n_samples = len(test_set)\n",
        "\n",
        "    # Create a generator that iterates over the examples\n",
        "    test_gen = iter(test_set)\n",
        "    train_gen = iter(train_set)\n",
        "    # Generate n-shot examples\n",
        "    for _ in range(n_samples):\n",
        "        test_sample = next(test_gen)\n",
        "        n_shot_example = f\"{prompt}:\\n\"\n",
        "\n",
        "        # Add the n-shot examples to the prompt\n",
        "        for _ in range(n):\n",
        "            train_sample = next(train_gen)\n",
        "            n_shot_example += f\"[{train_sample['sentence']}]\\nResponse: {sentiment_labels[train_sample['label']]}\\n\"\n",
        "\n",
        "        # Add the final test sentence without its label\n",
        "        n_shot_example += f\"[{test_sample['sentence']}]\\nResponse:\"\n",
        "\n",
        "        # Use the sentiment_labels dict to convert the numeric (0,1,2) to a text label\n",
        "        sentiment_label = sentiment_labels[test_sample['label']]\n",
        "\n",
        "        yield n_shot_example, sentiment_label\n",
        "\n",
        "\n",
        "# Generate 5-shot examples\n",
        "n_shot_generator = generate_n_shot_examples(\"Classify the sentiment (negative, neutral, positive) of the following statement\",\n",
        "                                            phrasebank_split['train'], phrasebank_split['test'], 5)\n",
        "\n",
        "# Display a couple generated n-shot examples\n",
        "for _ in range(2):\n",
        "    sample = next(n_shot_generator)\n",
        "    print(sample[0])\n",
        "    print()\n",
        "    print(sample[1])\n",
        "    print()"
      ]
    },
    {
      "cell_type": "markdown",
      "metadata": {
        "id": "fiE35YdpHkaD"
      },
      "source": [
        "# Model Overview & Initialization\n",
        "\n",
        "## Evaluating Decoder Models\n",
        "\n",
        "Evaluating Phi-1.5 and  GPT-3.A  generic inference function so we can run it in a generic inference loop later.\n",
        "\n",
        "\n"
      ]
    },
    {
      "cell_type": "markdown",
      "metadata": {
        "id": "GHZtA_SieFuo"
      },
      "source": [
        "# Evaluation\n",
        "\n",
        "Now, let's evaluate models do on the dataset!"
      ]
    },
    {
      "cell_type": "code",
      "execution_count": null,
      "metadata": {
        "id": "c-KLFxz2oSJf"
      },
      "outputs": [],
      "source": [
        "def evaluate_phi_inference(model_name: str, test_dataset: iter, train_set: List[Dict[str, Any]], n: int, prompt: str) -> dict:\n",
        "    \"\"\"\n",
        "    Evaluate the performance of a decoder model on a test dataset, with progress bar and n-shot learning.\n",
        "\n",
        "    Args:\n",
        "        model_infer: The model inference function that takes text as input and returns an integer label.\n",
        "        test_dataset: A generator or iterable containing test samples. Each sample is a dict with keys \"label\" and \"sentence\".\n",
        "        train_set: The training set used for generating n-shot examples.\n",
        "        n: The number of training examples to use for n-shot learning.\n",
        "        prompt: The prompt text to be used for the n-shot examples.\n",
        "\n",
        "    Returns:\n",
        "        A dictionary containing the average accuracy and F1 score.\n",
        "    \"\"\"\n",
        "    model = AutoModelForCausalLM.from_pretrained(model_name, trust_remote_code=True)\n",
        "    tokenizer = AutoTokenizer.from_pretrained(model_name, trust_remote_code=True)\n",
        "    max_new_tokens = 20\n",
        "\n",
        "    # Initialize true and predicted labels to empty Python lists\n",
        "    true_labels = []\n",
        "    predicted_labels = []\n",
        "\n",
        "    # This time, we need to use our generator function\n",
        "    # generate_n_shot_examples()\n",
        "    # Loaded with the prompt, train and test datasets, and n\n",
        "    n_shot_gen = generate_n_shot_examples(prompt, train_set, test_dataset, n)\n",
        "\n",
        "\n",
        "    for input_str, true_label in tqdm(n_shot_gen, total=len(test_dataset), desc=\"Evaluating\"):\n",
        "\n",
        "        inputs = tokenizer(input_str, return_tensors=\"pt\", return_attention_mask=False)\n",
        "        input_len = inputs.input_ids.shape[1]\n",
        "        outputs = model.generate(**inputs,  max_new_tokens=max_new_tokens)\n",
        "        output_str = tokenizer.batch_decode(outputs[:,input_len:])[0]\n",
        "        output_str_cleaned = output_str.strip().split()[0]\n",
        "\n",
        "        # Calculate the predicted label from the n_shot_example\n",
        "        predicted_label = output_str_cleaned\n",
        "\n",
        "        # Add the true and predicted labels to the true and predicted labels arrays\n",
        "        true_labels.append(true_label)\n",
        "        predicted_labels.append(predicted_label)\n",
        "\n",
        "    # Calculate accuracy and F1 score using sklearn's accuracy_score() and f1_score() functions\n",
        "    avg_accuracy =accuracy_score(true_labels,predicted_labels)\n",
        "    avg_f1 = f1_score(true_labels,predicted_labels, average=\"weighted\")\n",
        "\n",
        "\n",
        "    return {'Average Accuracy': avg_accuracy, 'Average F1 Score': avg_f1}"
      ]
    },
    {
      "cell_type": "code",
      "source": [
        "torch.cuda.memory_summary(device=None, abbreviated=False)"
      ],
      "metadata": {
        "id": "WzfNo-huUZi9"
      },
      "execution_count": null,
      "outputs": []
    },
    {
      "cell_type": "code",
      "execution_count": null,
      "metadata": {
        "colab": {
          "base_uri": "https://localhost:8080/"
        },
        "id": "OT-jO52au6y0",
        "outputId": "b22209fe-6bf6-401a-ade3-2e807485693c"
      },
      "outputs": [
        {
          "output_type": "stream",
          "name": "stderr",
          "text": [
            "Evaluating: 100%|██████████| 30/30 [00:34<00:00,  1.16s/it]\n",
            "Evaluating: 100%|██████████| 30/30 [00:40<00:00,  1.36s/it]\n"
          ]
        }
      ],
      "source": [
        "# Let's calculate the evaluation metrics (accuracy and F1 score) for Phi-1.5 (0-shot, 1-shot, 2-shot, and 3-shot!\n",
        "# Increasing the size of the test set will increase the time required for inference.\n",
        "num_test_samples = 30\n",
        "decoder_zero_results = evaluate_phi_inference(\"microsoft/phi-1_5\", phrasebank_split['test'].select(range(num_test_samples)), phrasebank_split['train'], 0, \"Classify the sentiment (negative, neutral, positive) of the following statement\")\n",
        "decoder_one_results = evaluate_phi_inference(\"microsoft/phi-1_5\", phrasebank_split['test'].select(range(num_test_samples)), phrasebank_split['train'], 1, \"Classify the sentiment (negative, neutral, positive) of the following statement\")\n",
        "decoder_two_results = evaluate_phi_inference(\"microsoft/phi-1_5\", phrasebank_split['test'].select(range(num_test_samples)), phrasebank_split['train'], 2, \"Classify the sentiment (negative, neutral, positive) of the following statement\")\n",
        "decoder_three_results = evaluate_phi_inference(\"microsoft/phi-1_5\", phrasebank_split['test'].select(range(num_test_samples)), phrasebank_split['train'], 3, \"Classify the sentiment (negative, neutral, positive) of the following statement\")\n",
        "decoder_four_results = evaluate_phi_inference(\"microsoft/phi-1_5\", phrasebank_split['test'].select(range(num_test_samples)), phrasebank_split['train'], 4, \"Classify the sentiment (negative, neutral, positive) of the following statement\")"
      ]
    },
    {
      "cell_type": "code",
      "execution_count": null,
      "metadata": {
        "colab": {
          "base_uri": "https://localhost:8080/"
        },
        "id": "BMiM7PAKoSLd",
        "outputId": "8c87e236-57db-4cc7-a1eb-8a5fe4c8dd1d"
      },
      "outputs": [
        {
          "output_type": "stream",
          "name": "stdout",
          "text": [
            "-----------------------------------------------------\n",
            "| Model Name  | Average Accuracy | Average F1 Score |\n",
            "-----------------------------------------------------\n",
            "| Decoder (0-shot)| 0.0000           | 0.0000           |\n",
            "-----------------------------------------------------\n",
            "| Decoder (1-shot)| 0.5333           | 0.4347           |\n",
            "-----------------------------------------------------\n",
            "| Decoder (2-shot)| 0.6000           | 0.5435           |\n",
            "-----------------------------------------------------\n",
            "| Decoder (3-shot)| 0.6000           | 0.5716           |\n",
            "-----------------------------------------------------\n",
            "| Decoder (4-shot)| 0.5667           | 0.4879           |\n",
            "-----------------------------------------------------\n"
          ]
        }
      ],
      "source": [
        "# Prepare the ASCII table\n",
        "header = \"| Model Name  | Average Accuracy | Average F1 Score |\"\n",
        "separator = \"-\" * len(header)\n",
        "\n",
        "# Print the ASCII table\n",
        "print(separator)\n",
        "print(header)\n",
        "print(separator)\n",
        "print(f\"| Decoder (0-shot)| {decoder_zero_results['Average Accuracy']:<16.4f} | {decoder_zero_results['Average F1 Score']:<16.4f} |\")\n",
        "print(separator)\n",
        "print(f\"| Decoder (1-shot)| {decoder_one_results['Average Accuracy']:<16.4f} | {decoder_one_results['Average F1 Score']:<16.4f} |\")\n",
        "print(separator)\n",
        "print(f\"| Decoder (2-shot)| {decoder_two_results['Average Accuracy']:<16.4f} | {decoder_two_results['Average F1 Score']:<16.4f} |\")\n",
        "print(separator)\n",
        "print(f\"| Decoder (3-shot)| {decoder_three_results['Average Accuracy']:<16.4f} | {decoder_three_results['Average F1 Score']:<16.4f} |\")\n",
        "print(separator)\n",
        "print(f\"| Decoder (4-shot)| {decoder_four_results['Average Accuracy']:<16.4f} | {decoder_four_results['Average F1 Score']:<16.4f} |\")\n",
        "print(separator)"
      ]
    },
    {
      "cell_type": "code",
      "execution_count": null,
      "metadata": {
        "id": "Ryfr4bumoSPS",
        "colab": {
          "base_uri": "https://localhost:8080/",
          "height": 564
        },
        "outputId": "a694b8dd-293b-4441-f126-56fdc1ffaace"
      },
      "outputs": [
        {
          "output_type": "display_data",
          "data": {
            "text/plain": [
              "<Figure size 1000x600 with 1 Axes>"
            ],
            "image/png": "[encoded data removed]"
          },
          "metadata": {}
        }
      ],
      "source": [
        "# Data preparation\n",
        "n_values = [0, 1, 2, 3,4]  # n-values for Phi-1.5\n",
        "decoder_accuracies = [\n",
        "    decoder_zero_results['Average Accuracy'],\n",
        "    decoder_one_results['Average Accuracy'],\n",
        "    decoder_two_results['Average Accuracy'],\n",
        "    decoder_three_results['Average Accuracy'],\n",
        "    decoder_four_results['Average Accuracy']\n",
        "\n",
        "]\n",
        "# roberta_accuracy = roberta_results['Average Accuracy']\n",
        "# finbert_accuracy = finbert_results['Average Accuracy']\n",
        "\n",
        "# Plotting\n",
        "plt.figure(figsize=(10, 6))\n",
        "\n",
        "# Plot Phi-1.5 accuracies\n",
        "plt.plot(n_values, decoder_accuracies, marker='o', linestyle='-', label='Phi-1.5', color='b')\n",
        "\n",
        "# Plot horizontal lines for Roberta and Finbert\n",
        "# plt.axhline(y=roberta_accuracy, color='r', linestyle='--', label='Roberta')\n",
        "# plt.axhline(y=finbert_accuracy, color='g', linestyle='--', label='Finbert')\n",
        "\n",
        "# Adding labels, title, and legend\n",
        "plt.xlabel('Number of Shots (n)')\n",
        "plt.ylabel('Average Accuracy')\n",
        "plt.title('Model Accuracy Comparison with n-shot Learning')\n",
        "plt.xticks(np.arange(min(n_values), max(n_values)+1, 1))\n",
        "plt.yticks(np.arange(0, 1.1, 0.1))\n",
        "plt.grid(True)\n",
        "plt.legend()\n",
        "\n",
        "# Show the plot\n",
        "plt.show()\n"
      ]
    },
    {
      "cell_type": "markdown",
      "metadata": {
        "id": "MdLFneGImhZa"
      },
      "source": [
        "# OpenAI API"
      ]
    },
    {
      "cell_type": "code",
      "execution_count": 22,
      "metadata": {
        "id": "HtDMbgJimgfQ",
        "colab": {
          "base_uri": "https://localhost:8080/"
        },
        "outputId": "38d20d46-1de7-45d5-ff50-f5d87979e45f"
      },
      "outputs": [
        {
          "name": "stdout",
          "output_type": "stream",
          "text": [
            "Enter your OpenAI API key: ··········\n"
          ]
        }
      ],
      "source": [
        "# Initialize OpenAI API client\n",
        "if openai.api_key is None:\n",
        "    # Prompt for the API key\n",
        "    api_key = getpass(\"Enter your OpenAI API key: \")\n",
        "\n",
        "    # Assign the API key to your application-specific variable\n",
        "    openai.api_key = api_key"
      ]
    },
    {
      "cell_type": "code",
      "source": [
        "def evaluate_ChatGPT_inference(model_name: str, test_dataset: iter, train_set: List[Dict[str, Any]], n: int, prompt: str) -> dict:\n",
        "\n",
        "    # Initialize true and predicted labels to empty Python lists\n",
        "    true_labels = []\n",
        "    predicted_labels = []\n",
        "\n",
        "    # This time, we need to use our generator function\n",
        "    # generate_n_shot_examples()\n",
        "    # Loaded with the prompt, train and test datasets, and n\n",
        "    n_shot_gen = generate_n_shot_examples(prompt, train_set, test_dataset, n)\n",
        "\n",
        "    for input_str, true_label in tqdm(n_shot_gen, total=len(test_dataset), desc=\"Evaluating\"):\n",
        "\n",
        "        response = openai.chat.completions.create(model=model_name,\n",
        "            messages=[{\"role\": \"system\", \"content\": \"You are a sentiment identtifier.\"},\n",
        "                      {\"role\": \"user\", \"content\": input_str}\n",
        "                      ]    )\n",
        "\n",
        "        # Extract the response content from the API response\n",
        "        response_content = response.choices[0].message.content\n",
        "\n",
        "        # Calculate the predicted label from the n_shot_example\n",
        "        predicted_label = response_content\n",
        "\n",
        "        # Add the true and predicted labels to the true and predicted labels arrays\n",
        "        true_labels.append(true_label)\n",
        "        predicted_labels.append(predicted_label)\n",
        "\n",
        "    # Calculate accuracy and F1 score using sklearn's accuracy_score() and f1_score() functions\n",
        "    avg_accuracy =accuracy_score(true_labels,predicted_labels)\n",
        "    avg_f1 = f1_score(true_labels,predicted_labels, average=\"weighted\")\n",
        "\n",
        "    return {'Average Accuracy': avg_accuracy, 'Average F1 Score': avg_f1}"
      ],
      "metadata": {
        "id": "XhDE4G60mEIX"
      },
      "execution_count": 29,
      "outputs": []
    },
    {
      "cell_type": "code",
      "source": [
        "gpt3_0shot_results = evaluate_ChatGPT_inference(\"gpt-3.5-turbo\", phrasebank_split['test'].select(range(num_test_samples)), phrasebank_split['train'], 0, \"Classify the sentiment (negative, neutral, positive) of the following statement\")"
      ],
      "metadata": {
        "id": "MNBxCXtZpugA"
      },
      "execution_count": null,
      "outputs": []
    },
    {
      "cell_type": "code",
      "execution_count": null,
      "metadata": {
        "id": "eUJzdKvwQrEx"
      },
      "outputs": [],
      "source": [
        "# Note that the network connection will slow down these requests\n",
        "# To save time, let's only look at 20 of the test samples.\n",
        "# You can increase this to get a more precise value for the model's test set accuracy\n",
        "num_test_samples = 30"
      ]
    },
    {
      "cell_type": "code",
      "execution_count": 31,
      "metadata": {
        "id": "hgovWXjjo-5J",
        "colab": {
          "base_uri": "https://localhost:8080/"
        },
        "outputId": "a2cd19f4-7f41-4c65-d1e2-c37d4d2393f5"
      },
      "outputs": [
        {
          "output_type": "stream",
          "name": "stderr",
          "text": [
            "Evaluating: 100%|██████████| 30/30 [00:17<00:00,  1.69it/s]\n"
          ]
        }
      ],
      "source": [
        "gpt3_0shot_results = evaluate_ChatGPT_inference(\"gpt-3.5-turbo\", phrasebank_split['test'].select(range(num_test_samples)), phrasebank_split['train'], 0, \"Classify the sentiment (negative, neutral, positive) of the following statement\")"
      ]
    },
    {
      "cell_type": "code",
      "execution_count": 32,
      "metadata": {
        "id": "74YVfxmpzqfU",
        "colab": {
          "base_uri": "https://localhost:8080/"
        },
        "outputId": "0852575f-a474-4881-86a5-29f6790cc795"
      },
      "outputs": [
        {
          "output_type": "stream",
          "name": "stderr",
          "text": [
            "Evaluating: 100%|██████████| 30/30 [00:19<00:00,  1.54it/s]\n"
          ]
        }
      ],
      "source": [
        "gpt3_1shot_results = evaluate_ChatGPT_inference(\"gpt-3.5-turbo\", phrasebank_split['test'].select(range(num_test_samples)), phrasebank_split['train'], 1, \"Classify the sentiment (negative, neutral, positive) of the following statement\")"
      ]
    },
    {
      "cell_type": "code",
      "execution_count": 33,
      "metadata": {
        "id": "qUiXYd4Yzqrr",
        "colab": {
          "base_uri": "https://localhost:8080/"
        },
        "outputId": "9338c978-a1d5-4572-dbf1-dd9c95fa8f1a"
      },
      "outputs": [
        {
          "output_type": "stream",
          "name": "stderr",
          "text": [
            "Evaluating: 100%|██████████| 30/30 [00:17<00:00,  1.73it/s]\n"
          ]
        }
      ],
      "source": [
        "gpt3_2shot_results = evaluate_ChatGPT_inference(\"gpt-3.5-turbo\", phrasebank_split['test'].select(range(num_test_samples)), phrasebank_split['train'], 2, \"Classify the sentiment (negative, neutral, positive) of the following statement\")"
      ]
    },
    {
      "cell_type": "code",
      "execution_count": 34,
      "metadata": {
        "id": "vCTVDgyRzqw2",
        "colab": {
          "base_uri": "https://localhost:8080/"
        },
        "outputId": "6b9391ff-a0ac-4560-acad-9207fd66d9a4"
      },
      "outputs": [
        {
          "output_type": "stream",
          "name": "stderr",
          "text": [
            "Evaluating: 100%|██████████| 30/30 [00:14<00:00,  2.12it/s]\n"
          ]
        }
      ],
      "source": [
        "gpt3_3shot_results = evaluate_ChatGPT_inference(\"gpt-3.5-turbo\", phrasebank_split['test'].select(range(num_test_samples)), phrasebank_split['train'], 3, \"Classify the sentiment (negative, neutral, positive) of the following statement\")\n"
      ]
    },
    {
      "cell_type": "code",
      "source": [
        "gpt3_4shot_results = evaluate_ChatGPT_inference(\"gpt-3.5-turbo\", phrasebank_split['test'].select(range(num_test_samples)), phrasebank_split['train'], 4, \"Classify the sentiment (negative, neutral, positive) of the following statement\")"
      ],
      "metadata": {
        "colab": {
          "base_uri": "https://localhost:8080/"
        },
        "id": "IIhaEU09qFhI",
        "outputId": "04aad828-22b6-49fa-8987-a9eb5ab74095"
      },
      "execution_count": 36,
      "outputs": [
        {
          "output_type": "stream",
          "name": "stderr",
          "text": [
            "Evaluating: 100%|██████████| 30/30 [00:13<00:00,  2.24it/s]\n"
          ]
        }
      ]
    },
    {
      "cell_type": "code",
      "execution_count": 37,
      "metadata": {
        "id": "k2x-n3oHqQiz",
        "colab": {
          "base_uri": "https://localhost:8080/"
        },
        "outputId": "83458005-1d85-4ffe-b123-d1a2cdd8c2d1"
      },
      "outputs": [
        {
          "output_type": "stream",
          "name": "stdout",
          "text": [
            "-----------------------------------------------------\n",
            "| Model Name  | Average Accuracy | Average F1 Score |\n",
            "-----------------------------------------------------\n",
            "|GPT-3.5 (n=0)| 0.3000           | 0.4111           |\n",
            "-----------------------------------------------------\n",
            "|GPT-3.5 (n=1)| 0.7000           | 0.6925           |\n",
            "-----------------------------------------------------\n",
            "|GPT-3.5 (n=2)| 0.5667           | 0.5512           |\n",
            "-----------------------------------------------------\n",
            "|GPT-3.5 (n=3)| 0.6333           | 0.6218           |\n",
            "-----------------------------------------------------\n",
            "|GPT-3.5 (n=3)| 0.7000           | 0.6925           |\n",
            "-----------------------------------------------------\n"
          ]
        }
      ],
      "source": [
        "# Prepare the ASCII table\n",
        "header = \"| Model Name  | Average Accuracy | Average F1 Score |\"\n",
        "separator = \"-\" * len(header)\n",
        "\n",
        "# Print the ASCII table\n",
        "print(separator)\n",
        "print(header)\n",
        "print(separator)\n",
        "print(f\"|GPT-3.5 (n=0)| {gpt3_0shot_results['Average Accuracy']:<16.4f} | {gpt3_0shot_results['Average F1 Score']:<16.4f} |\")\n",
        "print(separator)\n",
        "print(f\"|GPT-3.5 (n=1)| {gpt3_1shot_results['Average Accuracy']:<16.4f} | {gpt3_1shot_results['Average F1 Score']:<16.4f} |\")\n",
        "print(separator)\n",
        "print(f\"|GPT-3.5 (n=2)| {gpt3_2shot_results['Average Accuracy']:<16.4f} | {gpt3_2shot_results['Average F1 Score']:<16.4f} |\")\n",
        "print(separator)\n",
        "print(f\"|GPT-3.5 (n=3)| {gpt3_3shot_results['Average Accuracy']:<16.4f} | {gpt3_3shot_results['Average F1 Score']:<16.4f} |\")\n",
        "print(separator)\n",
        "print(f\"|GPT-3.5 (n=3)| {gpt3_4shot_results['Average Accuracy']:<16.4f} | {gpt3_4shot_results['Average F1 Score']:<16.4f} |\")\n",
        "print(separator)"
      ]
    },
    {
      "cell_type": "code",
      "execution_count": 39,
      "metadata": {
        "id": "oPW_u-7Kz5cN",
        "colab": {
          "base_uri": "https://localhost:8080/",
          "height": 564
        },
        "outputId": "f4224d54-1719-4380-f137-40426682cf17"
      },
      "outputs": [
        {
          "output_type": "display_data",
          "data": {
            "text/plain": [
              "<Figure size 1000x600 with 1 Axes>"
            ],
            "image/png": "[encoded data removed]"
          },
          "metadata": {}
        }
      ],
      "source": [
        "# Data preparation\n",
        "n_values = [0, 1, 2, 3,4]  # n-values for GPT-3.5\n",
        "gpt3_accuracies = [\n",
        "    gpt3_0shot_results['Average Accuracy'],\n",
        "    gpt3_1shot_results['Average Accuracy'],\n",
        "    gpt3_2shot_results['Average Accuracy'],\n",
        "    gpt3_3shot_results['Average Accuracy'],\n",
        "    gpt3_4shot_results['Average Accuracy']\n",
        "\n",
        "]\n",
        "# Plotting\n",
        "plt.figure(figsize=(10, 6))\n",
        "\n",
        "# Plot GPT-3.5 accuracies\n",
        "plt.plot(n_values, gpt3_accuracies, marker='o', linestyle='-', label='GPT-3.5', color='orange')\n",
        "\n",
        "# Plot Phi-1.5 accuracies\n",
        "plt.plot(n_values, decoder_accuracies, marker='o', linestyle='-', label='Phi-1.5', color='b')\n",
        "\n",
        "# Adding labels, title, and legend\n",
        "plt.xlabel('Number of Shots (n)')\n",
        "plt.ylabel('Average Accuracy')\n",
        "plt.title('Model Accuracy Comparison with n-shot Learning')\n",
        "plt.xticks(np.arange(min(n_values), max(n_values)+1, 1))\n",
        "plt.yticks(np.arange(0, 1.1, 0.1))\n",
        "plt.grid(True)\n",
        "plt.legend()\n",
        "\n",
        "# Show the plot\n",
        "plt.show()\n"
      ]
    }
  ],
  "metadata": {
    "accelerator": "GPU",
    "colab": {
      "provenance": [],
      "include_colab_link": true
    },
    "kernelspec": {
      "display_name": "Python 3",
      "name": "python3"
    },
    "language_info": {
      "name": "python"
    }
  },
  "nbformat": 4,
  "nbformat_minor": 0
}