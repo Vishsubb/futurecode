{
  "nbformat": 4,
  "nbformat_minor": 0,
  "metadata": {
    "colab": {
      "provenance": [],
      "include_colab_link": true
    },
    "kernelspec": {
      "name": "python3",
      "display_name": "Python 3"
    },
    "language_info": {
      "name": "python"
    },
    "accelerator": "GPU",
    "gpuClass": "standard"
  },
  "cells": [
    {
      "cell_type": "markdown",
      "metadata": {
        "id": "view-in-github",
        "colab_type": "text"
      },
      "source": [
        "<a href=\"https://colab.research.google.com/github/Vishsubb/futurecode/blob/main/PodcastGenerator.ipynb\" target=\"_parent\"><img src=\"https://colab.research.google.com/assets/colab-badge.svg\" alt=\"Open In Colab\"/></a>"
      ]
    },
    {
      "cell_type": "markdown",
      "source": [
        "# Mount drive to store the pdf files for which we want to generate podcasts"
      ],
      "metadata": {
        "id": "-YCPiat2Z8ur"
      }
    },
    {
      "cell_type": "code",
      "source": [
        "from google.colab import drive\n",
        "drive.mount('/content/drive')"
      ],
      "metadata": {
        "colab": {
          "base_uri": "https://localhost:8080/"
        },
        "id": "tW_umQXngtUy",
        "outputId": "aac005ee-d3ec-4c53-bbd5-60390b1d0126"
      },
      "execution_count": 1,
      "outputs": [
        {
          "output_type": "stream",
          "name": "stdout",
          "text": [
            "Mounted at /content/drive\n"
          ]
        }
      ]
    },
    {
      "cell_type": "markdown",
      "source": [
        "# Install pypdf libraries to load PDF and covert the same to text. Can skip this step if you already have text files\n"
      ],
      "metadata": {
        "id": "9ApyGkKFlqOv"
      }
    },
    {
      "cell_type": "code",
      "source": [
        "## Installing the necessary library to work with PDF\n",
        "!pip install pypdf"
      ],
      "metadata": {
        "id": "sL2vdZ7NQ-am",
        "colab": {
          "base_uri": "https://localhost:8080/"
        },
        "outputId": "13173f9b-7f13-4918-a51a-870d9bddb5b7"
      },
      "execution_count": 3,
      "outputs": [
        {
          "output_type": "stream",
          "name": "stdout",
          "text": [
            "Looking in indexes: https://pypi.org/simple, https://us-python.pkg.dev/colab-wheels/public/simple/\n",
            "Collecting pypdf\n",
            "  Downloading pypdf-3.9.0-py3-none-any.whl (249 kB)\n",
            "\u001b[2K     \u001b[90m━━━━━━━━━━━━━━━━━━━━━━━━━━━━━━━━━━━━━━━\u001b[0m \u001b[32m249.5/249.5 kB\u001b[0m \u001b[31m5.6 MB/s\u001b[0m eta \u001b[36m0:00:00\u001b[0m\n",
            "\u001b[?25hInstalling collected packages: pypdf\n",
            "Successfully installed pypdf-3.9.0\n"
          ]
        }
      ]
    },
    {
      "cell_type": "code",
      "source": [
        "import requests\n",
        "import io\n",
        "from pypdf import PdfReader, PageRange\n",
        "reader = PdfReader(\"/content/drive/MyDrive/Learning/Upskilling Blog - 1.pdf\")\n",
        "\n",
        "# Listing the number of pages in the PDF file\n",
        "number_of_pages = len(reader.pages)\n",
        "print (number_of_pages)"
      ],
      "metadata": {
        "id": "FhCRg6A-Rp90",
        "colab": {
          "base_uri": "https://localhost:8080/"
        },
        "outputId": "bb7ff05f-f8e4-403a-9e54-45957da2a550"
      },
      "execution_count": 4,
      "outputs": [
        {
          "output_type": "stream",
          "name": "stdout",
          "text": [
            "1\n"
          ]
        }
      ]
    },
    {
      "cell_type": "code",
      "source": [
        "# Load only selected pages\n",
        "pages = PageRange('0:5').to_slice()\n",
        "selected_pages = reader.pages[pages]"
      ],
      "metadata": {
        "id": "cu03Isolh1p9"
      },
      "execution_count": 5,
      "outputs": []
    },
    {
      "cell_type": "markdown",
      "source": [
        "# Extract text and store in pdf_input"
      ],
      "metadata": {
        "id": "B8GID6xEbACS"
      }
    },
    {
      "cell_type": "code",
      "source": [
        "pdf_input = \"\"\n",
        "for page in selected_pages:\n",
        "    pdf_input += page.extract_text() + \"\\n\""
      ],
      "metadata": {
        "id": "QMkK5LO2SIaH"
      },
      "execution_count": 8,
      "outputs": []
    },
    {
      "cell_type": "code",
      "source": [
        "pdf_input"
      ],
      "metadata": {
        "id": "pVBRcb5ZTRiT",
        "colab": {
          "base_uri": "https://localhost:8080/",
          "height": 145
        },
        "outputId": "0dbf7c16-5bf2-4de8-802d-6c64f4a35087"
      },
      "execution_count": 9,
      "outputs": [
        {
          "output_type": "execute_result",
          "data": {
            "text/plain": [
              "' \\n \\n \\n \\n \\nEducational t echnology has enormous potential in upskilling a future -ready workforce. Let’s understand how tech \\nis facilitating and augmenting  learning for a future -ready workforce:  \\n• Upskill platforms are already tech-first:  Software platforms for upskilling need integration of  multiple \\nstandalone technology platforms to provide an end -to-end learning experience. These may be course \\nstorefronts, CRM systems, or course enrolment systems that include payment gateway solutions, teaching and \\nlearning systems, assessments, and engage ment platforms. The interplay of technologies here helps in  \\nattracting learners, enhancing the teaching & learning experience, and influencing learner outcomes.  \\n \\n• Driving down the cost of learner acquisition : Companies in the upskilling business are still face d with steep  \\ncosts of learner acquisition . Tech  intervention can help a prospective learner better evaluate several learning \\nplatforms with a  self-driven approach  thus reducing the CAC (C ost of Customer Acquisition) . Instead of \\nexpensive on -the-ground sales teams, prospective learners are now provided with a learner portal that allows \\nthem to take a test -drive of the learning material at their own convenience. Portals for prospective learners can  \\nprovide tech enabled toolsets to evaluate ROI, choose options to fast -track completion  and provide a high \\ndegree of flexibility in class schedules based on  learners ’ convenience . They also provide a feel of the course even \\nbefore enrolment giving prospective learners all the necessary data points to help them  make a well -informed decision.  \\n \\n• Tech -driven skill mapping and gap analysis is shaping personalized  career path s: The need to assess \\nlearners for their propensity to move into new roles, requires an initial test of their skills, identification of gaps, \\nand the mechanism to devise a transformational path to help them make a shift to aspirational roles. Tech can \\nhelp maintain a skills repo sitory focused on the domain of interest, perform skill mapping,  and gap analysis, \\nand chalk out the personalized path for upskilling or re -skilling.  \\n'"
            ],
            "application/vnd.google.colaboratory.intrinsic+json": {
              "type": "string"
            }
          },
          "metadata": {},
          "execution_count": 9
        }
      ]
    },
    {
      "cell_type": "markdown",
      "source": [
        "# Determining tokens size. This step is done to determine the number of chunks of text that can be passed to ChatCompletion API taking into consideration size of the Prompt "
      ],
      "metadata": {
        "id": "DGmNALG7n1Lg"
      }
    },
    {
      "cell_type": "code",
      "source": [
        "!pip install tiktoken"
      ],
      "metadata": {
        "id": "UsTD-HynXojp",
        "colab": {
          "base_uri": "https://localhost:8080/"
        },
        "outputId": "208165d1-132c-4259-f477-cc1fb9177588"
      },
      "execution_count": 10,
      "outputs": [
        {
          "output_type": "stream",
          "name": "stdout",
          "text": [
            "Looking in indexes: https://pypi.org/simple, https://us-python.pkg.dev/colab-wheels/public/simple/\n",
            "Collecting tiktoken\n",
            "  Downloading tiktoken-0.4.0-cp310-cp310-manylinux_2_17_x86_64.manylinux2014_x86_64.whl (1.7 MB)\n",
            "\u001b[2K     \u001b[90m━━━━━━━━━━━━━━━━━━━━━━━━━━━━━━━━━━━━━━━━\u001b[0m \u001b[32m1.7/1.7 MB\u001b[0m \u001b[31m13.4 MB/s\u001b[0m eta \u001b[36m0:00:00\u001b[0m\n",
            "\u001b[?25hRequirement already satisfied: regex>=2022.1.18 in /usr/local/lib/python3.10/dist-packages (from tiktoken) (2022.10.31)\n",
            "Requirement already satisfied: requests>=2.26.0 in /usr/local/lib/python3.10/dist-packages (from tiktoken) (2.27.1)\n",
            "Requirement already satisfied: urllib3<1.27,>=1.21.1 in /usr/local/lib/python3.10/dist-packages (from requests>=2.26.0->tiktoken) (1.26.15)\n",
            "Requirement already satisfied: certifi>=2017.4.17 in /usr/local/lib/python3.10/dist-packages (from requests>=2.26.0->tiktoken) (2022.12.7)\n",
            "Requirement already satisfied: charset-normalizer~=2.0.0 in /usr/local/lib/python3.10/dist-packages (from requests>=2.26.0->tiktoken) (2.0.12)\n",
            "Requirement already satisfied: idna<4,>=2.5 in /usr/local/lib/python3.10/dist-packages (from requests>=2.26.0->tiktoken) (3.4)\n",
            "Installing collected packages: tiktoken\n",
            "Successfully installed tiktoken-0.4.0\n"
          ]
        }
      ]
    },
    {
      "cell_type": "code",
      "source": [
        "import tiktoken\n",
        "enc = tiktoken.encoding_for_model(\"gpt-3.5-turbo\")\n",
        "token_list = enc.encode(pdf_input)"
      ],
      "metadata": {
        "id": "W4XiPWb0dTi8"
      },
      "execution_count": 11,
      "outputs": []
    },
    {
      "cell_type": "code",
      "source": [
        "token_list"
      ],
      "metadata": {
        "id": "mBwceQ3RaIar"
      },
      "execution_count": null,
      "outputs": []
    },
    {
      "cell_type": "code",
      "source": [
        "for token in token_list:\n",
        "  print (\"Token \", str(token), \" decodes to \", enc.decode([token]))"
      ],
      "metadata": {
        "id": "E8Wu4SOAG_-c"
      },
      "execution_count": null,
      "outputs": []
    },
    {
      "cell_type": "code",
      "source": [
        "## Please the variable as pdf_input, wiki_input, or book_input based on your choice\n",
        "print (\"Number of tokens in corpus \", len(enc.encode(pdf_input)))"
      ],
      "metadata": {
        "id": "6N12SKtEIh7s",
        "colab": {
          "base_uri": "https://localhost:8080/"
        },
        "outputId": "85e32d1f-f934-407c-e35a-31ab3f19fe48"
      },
      "execution_count": 14,
      "outputs": [
        {
          "output_type": "stream",
          "name": "stdout",
          "text": [
            "Number of tokens in corpus  435\n"
          ]
        }
      ]
    },
    {
      "cell_type": "markdown",
      "source": [
        "# Extract sentences. Create chunks to the closest fully completed sentences"
      ],
      "metadata": {
        "id": "bSkdAit1cdDM"
      }
    },
    {
      "cell_type": "code",
      "source": [
        "import nltk\n",
        "nltk.download('punkt')\n",
        "from nltk.tokenize import sent_tokenize\n",
        "\n",
        "def split_text (input_text):\n",
        "  #split_texts = sent_tokenize(input_text)\n",
        "  #The sent_tokenize function  tokenize inserted text into sentences\n",
        "  split_texts = sent_tokenize(input_text)\n",
        "  return split_texts"
      ],
      "metadata": {
        "id": "FulRVvWXX_wa",
        "colab": {
          "base_uri": "https://localhost:8080/"
        },
        "outputId": "cea7d7d9-0004-4ea3-a7bd-69f7ad318253"
      },
      "execution_count": 15,
      "outputs": [
        {
          "output_type": "stream",
          "name": "stderr",
          "text": [
            "[nltk_data] Downloading package punkt to /root/nltk_data...\n",
            "[nltk_data]   Unzipping tokenizers/punkt.zip.\n"
          ]
        }
      ]
    },
    {
      "cell_type": "code",
      "source": [
        "def create_chunks(split_sents, max_token_len=2000):\n",
        "  current_token_len = 0\n",
        "  input_chunks = []\n",
        "  current_chunk = \"\"\n",
        "  for sents in split_sents:\n",
        "    sent_token_len = len(enc.encode(sents))\n",
        "    if (current_token_len + sent_token_len) > max_token_len:\n",
        "      input_chunks.append(current_chunk)\n",
        "      current_chunk = \"\"\n",
        "      current_token_len = 0\n",
        "    current_chunk = current_chunk + sents\n",
        "    current_token_len = current_token_len + sent_token_len\n",
        "  if current_chunk != \"\":\n",
        "    input_chunks.append(current_chunk)\n",
        "  return input_chunks"
      ],
      "metadata": {
        "id": "Nz5cP3dwYmq6"
      },
      "execution_count": 16,
      "outputs": []
    },
    {
      "cell_type": "code",
      "source": [
        "# split_sents = split_text(wiki_input)\n",
        "# input_chunks = create_chunks(split_sents, max_token_len=1000)\n",
        "\n",
        "split_sents = split_text(pdf_input)\n",
        "input_chunks = create_chunks(split_sents, max_token_len=1000)"
      ],
      "metadata": {
        "id": "59n9DN0HJXEb"
      },
      "execution_count": 17,
      "outputs": []
    },
    {
      "cell_type": "code",
      "source": [
        "len(input_chunks)"
      ],
      "metadata": {
        "id": "4SLxepo7NSjy",
        "colab": {
          "base_uri": "https://localhost:8080/"
        },
        "outputId": "d653d89b-20e3-469b-dc2e-9e80a3cef2b1"
      },
      "execution_count": 18,
      "outputs": [
        {
          "output_type": "execute_result",
          "data": {
            "text/plain": [
              "1"
            ]
          },
          "metadata": {},
          "execution_count": 18
        }
      ]
    },
    {
      "cell_type": "markdown",
      "source": [
        "# Generating the context of the podcast and give introduction text\n",
        "\n"
      ],
      "metadata": {
        "id": "L2yIBCyweOfS"
      }
    },
    {
      "cell_type": "markdown",
      "source": [
        "**Initiate openai**"
      ],
      "metadata": {
        "id": "lWQyqOH5gMdg"
      }
    },
    {
      "cell_type": "code",
      "source": [
        "!pip install openai"
      ],
      "metadata": {
        "id": "Wyjf2DkHdMou",
        "colab": {
          "base_uri": "https://localhost:8080/"
        },
        "outputId": "fecc0e74-be65-4d39-b1d6-c75ddf70736f"
      },
      "execution_count": 31,
      "outputs": [
        {
          "output_type": "stream",
          "name": "stdout",
          "text": [
            "Looking in indexes: https://pypi.org/simple, https://us-python.pkg.dev/colab-wheels/public/simple/\n",
            "Requirement already satisfied: openai in /usr/local/lib/python3.10/dist-packages (0.27.7)\n",
            "Requirement already satisfied: requests>=2.20 in /usr/local/lib/python3.10/dist-packages (from openai) (2.27.1)\n",
            "Requirement already satisfied: tqdm in /usr/local/lib/python3.10/dist-packages (from openai) (4.65.0)\n",
            "Requirement already satisfied: aiohttp in /usr/local/lib/python3.10/dist-packages (from openai) (3.8.4)\n",
            "Requirement already satisfied: urllib3<1.27,>=1.21.1 in /usr/local/lib/python3.10/dist-packages (from requests>=2.20->openai) (1.26.15)\n",
            "Requirement already satisfied: certifi>=2017.4.17 in /usr/local/lib/python3.10/dist-packages (from requests>=2.20->openai) (2022.12.7)\n",
            "Requirement already satisfied: charset-normalizer~=2.0.0 in /usr/local/lib/python3.10/dist-packages (from requests>=2.20->openai) (2.0.12)\n",
            "Requirement already satisfied: idna<4,>=2.5 in /usr/local/lib/python3.10/dist-packages (from requests>=2.20->openai) (3.4)\n",
            "Requirement already satisfied: attrs>=17.3.0 in /usr/local/lib/python3.10/dist-packages (from aiohttp->openai) (23.1.0)\n",
            "Requirement already satisfied: multidict<7.0,>=4.5 in /usr/local/lib/python3.10/dist-packages (from aiohttp->openai) (6.0.4)\n",
            "Requirement already satisfied: async-timeout<5.0,>=4.0.0a3 in /usr/local/lib/python3.10/dist-packages (from aiohttp->openai) (4.0.2)\n",
            "Requirement already satisfied: yarl<2.0,>=1.0 in /usr/local/lib/python3.10/dist-packages (from aiohttp->openai) (1.9.2)\n",
            "Requirement already satisfied: frozenlist>=1.1.1 in /usr/local/lib/python3.10/dist-packages (from aiohttp->openai) (1.3.3)\n",
            "Requirement already satisfied: aiosignal>=1.1.2 in /usr/local/lib/python3.10/dist-packages (from aiohttp->openai) (1.3.1)\n"
          ]
        }
      ]
    },
    {
      "cell_type": "markdown",
      "source": [
        "**get openai key**"
      ],
      "metadata": {
        "id": "g5jqzNEQgU-4"
      }
    },
    {
      "cell_type": "code",
      "source": [
        "import openai\n",
        "from getpass import getpass\n",
        "\n",
        "openai.api_key = getpass('Enter your OPENAI_API_KEY  ')"
      ],
      "metadata": {
        "id": "0Cv81k67ZNZM",
        "colab": {
          "base_uri": "https://localhost:8080/"
        },
        "outputId": "65cfa245-1247-4fef-b71e-439371261e75"
      },
      "execution_count": 32,
      "outputs": [
        {
          "name": "stdout",
          "output_type": "stream",
          "text": [
            "Enter your OPENAI_API_KEY  ··········\n"
          ]
        }
      ]
    },
    {
      "cell_type": "code",
      "source": [
        "# Cheking of the API works\n",
        "# we will be using the gpt-3.5-turbo version for this project\n",
        "models = openai.Model.list()\n",
        "for model in models[\"data\"]:\n",
        "  print (model[\"root\"])"
      ],
      "metadata": {
        "id": "lEFRLVz9fRIA"
      },
      "execution_count": null,
      "outputs": []
    },
    {
      "cell_type": "code",
      "source": [
        "instructPrompt = \"\"\"ContextText: \"\"\""
      ],
      "metadata": {
        "id": "BmZlpif2fa7k"
      },
      "execution_count": 34,
      "outputs": []
    },
    {
      "cell_type": "code",
      "source": [
        "systemPrompt = \"\"\"Please summarize the text given in the ContextText as an abstract\"\"\""
      ],
      "metadata": {
        "id": "Y6LWlR351iD7"
      },
      "execution_count": 35,
      "outputs": []
    },
    {
      "cell_type": "markdown",
      "source": [
        "**Add string ContextText before each chunk of text**"
      ],
      "metadata": {
        "id": "A6Kxmb8hgfiE"
      }
    },
    {
      "cell_type": "code",
      "source": [
        "requestMessages = []\n",
        "for text in input_chunks:\n",
        "  requestMessage = instructPrompt + '\\n' + text\n",
        "  requestMessages.append(requestMessage)"
      ],
      "metadata": {
        "id": "ufYJ4BAierR5"
      },
      "execution_count": 36,
      "outputs": []
    },
    {
      "cell_type": "markdown",
      "source": [
        "**Get Summary for each chunk of text and add to list**"
      ],
      "metadata": {
        "id": "sJMZke6SgtAI"
      }
    },
    {
      "cell_type": "code",
      "source": [
        "summaryOutputs = []\n",
        "for request in requestMessages:\n",
        "  summaryOutput = openai.ChatCompletion.create(model=\"gpt-3.5-turbo\",\n",
        "                                            messages=[{\"role\": \"system\", \"content\": systemPrompt},\n",
        "                                                      {\"role\": \"user\", \"content\": request}\n",
        "                                                      ]\n",
        "                                            )\n",
        "  summaryOutputs.append(summaryOutput)"
      ],
      "metadata": {
        "id": "ImEZ-y0KfwoO"
      },
      "execution_count": 37,
      "outputs": []
    },
    {
      "cell_type": "markdown",
      "source": [
        "**Concatenate all the summary strings**"
      ],
      "metadata": {
        "id": "SwzjknJKg-Zh"
      }
    },
    {
      "cell_type": "code",
      "source": [
        "summaryFacts = \"\"\n",
        "for summaryfact in summaryOutputs:\n",
        "  summaryFacts = summaryFacts + summaryfact.choices[0].message.content"
      ],
      "metadata": {
        "id": "zu2EMitxgGNi"
      },
      "execution_count": 38,
      "outputs": []
    },
    {
      "cell_type": "code",
      "source": [
        "summaryFacts"
      ],
      "metadata": {
        "colab": {
          "base_uri": "https://localhost:8080/",
          "height": 127
        },
        "id": "Dte0kEQk6dEq",
        "outputId": "52965bc2-e720-4238-cc11-5d822cd690af"
      },
      "execution_count": 39,
      "outputs": [
        {
          "output_type": "execute_result",
          "data": {
            "text/plain": [
              "\"The use of technology in education has the potential to upskill a future-ready workforce. Software platforms for upskilling integrate multiple technology platforms to provide an end-to-end learning experience, including course storefronts, CRM systems, or course enrollment systems with payment gateway solutions, teaching and learning systems, assessments, and engagement platforms. Technology can also reduce the cost of learner acquisition by allowing prospective learners to evaluate different learning platforms with a self-driven approach, providing a learner portal that facilitates testing the learning material, evaluating ROI, and providing flexibility in class schedules. Additionally, technology-driven skills mapping and gap analysis can shape personalized career paths by assessing learners' skills, identifying gaps and devising transformational paths for upskilling or reskilling.\""
            ],
            "application/vnd.google.colaboratory.intrinsic+json": {
              "type": "string"
            }
          },
          "metadata": {},
          "execution_count": 39
        }
      ]
    },
    {
      "cell_type": "markdown",
      "source": [
        "#For the summary thus created. create an introduction starting with interesting questions and welcome the audience and guest"
      ],
      "metadata": {
        "id": "SWayQlPFhTOH"
      }
    },
    {
      "cell_type": "code",
      "source": [
        "instructPrompt+ summaryFacts"
      ],
      "metadata": {
        "colab": {
          "base_uri": "https://localhost:8080/",
          "height": 127
        },
        "id": "ak-h0GBb3z2j",
        "outputId": "b10eef9e-e038-4740-d591-ea14cdfee0d3"
      },
      "execution_count": 58,
      "outputs": [
        {
          "output_type": "execute_result",
          "data": {
            "text/plain": [
              "\"ContextText: The use of technology in education has the potential to upskill a future-ready workforce. Software platforms for upskilling integrate multiple technology platforms to provide an end-to-end learning experience, including course storefronts, CRM systems, or course enrollment systems with payment gateway solutions, teaching and learning systems, assessments, and engagement platforms. Technology can also reduce the cost of learner acquisition by allowing prospective learners to evaluate different learning platforms with a self-driven approach, providing a learner portal that facilitates testing the learning material, evaluating ROI, and providing flexibility in class schedules. Additionally, technology-driven skills mapping and gap analysis can shape personalized career paths by assessing learners' skills, identifying gaps and devising transformational paths for upskilling or reskilling.\""
            ],
            "application/vnd.google.colaboratory.intrinsic+json": {
              "type": "string"
            }
          },
          "metadata": {},
          "execution_count": 58
        }
      ]
    },
    {
      "cell_type": "code",
      "source": [
        "systemPrompt = \"\"\"You are an automated podcast script generator. Input is a text given as ContextText. Host name is Vish and guest name is Dr. Sheetal. You have 3 activities to perform. \n",
        "First activity should be prefixed Vish. Second activity should be prefixed Vish. Third activity to be prefixed with name Dr. Sheetal\n",
        "First Activity: Host to welcome the audience, introduce oneself to new audience. \n",
        "Second Activity: Using key aspects in the text, generate introduction to podcast starting with 3 interesting questions. Keep the introduction to 30 words. Welcome the guest to the show. \n",
        "Third Activity: for guest, generate a response thanking the host for having them in the show. Do not output activity names\"\"\""
      ],
      "metadata": {
        "id": "XcSgvriQh8nU"
      },
      "execution_count": 59,
      "outputs": []
    },
    {
      "cell_type": "code",
      "source": [
        " introductionOutput = openai.ChatCompletion.create(model=\"gpt-3.5-turbo\",\n",
        "                                            messages=[{\"role\": \"system\", \"content\": systemPrompt},\n",
        "                                                      {\"role\": \"user\", \"content\":instructPrompt+ summaryFacts}\n",
        "                                                      ]\n",
        "                                                  )\n"
      ],
      "metadata": {
        "id": "keO7F-R8Gzl_"
      },
      "execution_count": 60,
      "outputs": []
    },
    {
      "cell_type": "code",
      "source": [
        "podcastIntroText = introductionOutput.choices[0].message.content"
      ],
      "metadata": {
        "id": "stdetx75dtY3"
      },
      "execution_count": 61,
      "outputs": []
    },
    {
      "cell_type": "code",
      "source": [
        "podcastIntroText"
      ],
      "metadata": {
        "colab": {
          "base_uri": "https://localhost:8080/",
          "height": 145
        },
        "id": "M_jrlLQgvxSz",
        "outputId": "02b107e5-0e00-4d1e-def5-4cdb9c250fee"
      },
      "execution_count": 62,
      "outputs": [
        {
          "output_type": "execute_result",
          "data": {
            "text/plain": [
              "\"Vish: Hello and welcome everyone to our show. This is Vish, and I am excited to have you all here. For those of you who are new, I am a host and content creator who loves to have insightful discussions with experts. \\n\\nVish: Today, we have Dr. Sheetal with us to talk about the potential of technology in education. We'll be exploring how software platforms can provide an end-to-end learning experience, reduce learner acquisition costs, and personalize career paths. \\n\\nVish: Dr. Sheetal, we're thrilled to have you on the show. To kick things off, can you share with us: \\n\\n- How can technology help learners evaluate different learning platforms?\\n- What are the benefits of using technology for personalized career paths?\\n- Can you tell us more about technology-driven skills mapping and gap analysis?\\n\\nDr. Sheetal: Vish, thank you for having me on the show. I'm excited to be here and share my insights with your audience. Regarding your questions, technology can provide a self-driven approach for learners to evaluate learning platforms that fit their needs and preferences. Personalized career paths allow learners to identify their skills gaps and take up courses or programs that address those gaps, leading them to upskilling and reskilling transformation paths. Lastly, technology-driven skills mapping can provide insights for learners to effectively manage their learning journey by identifying their key strengths and competencies.\""
            ],
            "application/vnd.google.colaboratory.intrinsic+json": {
              "type": "string"
            }
          },
          "metadata": {},
          "execution_count": 62
        }
      ]
    },
    {
      "cell_type": "markdown",
      "source": [
        "The above output should be a list of all important facts, themes or other highlights from your topic that you would like to be covered in the podcast conversation"
      ],
      "metadata": {
        "id": "yvnJ0z7gv89p"
      }
    },
    {
      "cell_type": "markdown",
      "source": [
        "#Generating the actual podcast questions and answers\n",
        "\n"
      ],
      "metadata": {
        "id": "NVwyG8r9ARup"
      }
    },
    {
      "cell_type": "code",
      "source": [
        "instructPrompt = \"\"\"ContextText: \"\"\""
      ],
      "metadata": {
        "id": "juZcQHo6ARuz"
      },
      "execution_count": 63,
      "outputs": []
    },
    {
      "cell_type": "code",
      "source": [
        "systemPrompt = \"\"\"You are an automated podcast script generator. \n",
        "Input is a text given as ContextText. \n",
        "Host name is Vish and guest name is Dr. Sheetal. \n",
        "Using key aspects in the text, generate 3 unique and interesting questions.  \n",
        "For generated question ,generate corresponding answers. Limit answers to 50 words.  \n",
        "Always make sure, the questions are prefixed with the Vish and Answers are prefixed with Dr. Sheetal.  \n",
        "Keep the discussion conversational and engaging. Do not introduce or welcome the guest. Do not number the questions\"\"\""
      ],
      "metadata": {
        "id": "otGScP7AARuz"
      },
      "execution_count": 64,
      "outputs": []
    },
    {
      "cell_type": "code",
      "source": [
        "requestMessages = []\n",
        "for text in input_chunks:\n",
        "  requestMessage = instructPrompt + '\\n' + text\n",
        "  requestMessages.append(requestMessage)"
      ],
      "metadata": {
        "id": "f1GqwCeEY-ee"
      },
      "execution_count": 65,
      "outputs": []
    },
    {
      "cell_type": "code",
      "source": [
        "chatOutputs = []\n",
        "for request in requestMessages:\n",
        "  \n",
        "  chatOutput = openai.ChatCompletion.create(model=\"gpt-3.5-turbo\",\n",
        "                                            messages=[{\"role\": \"system\", \"content\": systemPrompt},\n",
        "                                                      {\"role\": \"user\", \"content\": request}\n",
        "                                                      ]\n",
        "                                            )\n",
        "  chatOutputs.append(chatOutput)"
      ],
      "metadata": {
        "id": "7U0WzgmnZNqi"
      },
      "execution_count": 67,
      "outputs": []
    },
    {
      "cell_type": "code",
      "source": [
        "podcastFacts = \"\"\n",
        "for chats in chatOutputs:\n",
        "  podcastFacts = podcastFacts + chats.choices[0].message.content +\"\\n\""
      ],
      "metadata": {
        "id": "7DuC5A5ZARu0"
      },
      "execution_count": 68,
      "outputs": []
    },
    {
      "cell_type": "code",
      "source": [
        "podcastFacts"
      ],
      "metadata": {
        "colab": {
          "base_uri": "https://localhost:8080/",
          "height": 145
        },
        "id": "ys2G58kPyxRx",
        "outputId": "ca3e2737-45b4-4963-e928-f315f63e92b5"
      },
      "execution_count": 69,
      "outputs": [
        {
          "output_type": "execute_result",
          "data": {
            "text/plain": [
              "\"Vish: How can technology help in reducing the cost of learner acquisition in the upskilling business?\\nDr. Sheetal: Technology can provide a self-driven approach for prospective learners to evaluate learning platforms, reducing the cost of customer acquisition. Learner portals equipped with toolsets to evaluate ROI, fast-track completion, and flexible class schedules can provide a feel of the course before enrolment, helping learners make a well-informed decision.\\n\\nVish: How can personalized career paths be shaped for the learners using educational technology?\\nDr. Sheetal: Tech-driven skill mapping and gap analysis can maintain a skills repository and identify gaps in learners' skills and chalk out a personalized path for upskilling or reskilling. Initial assessments and identification of learners' skills paired with a mechanism for transformational paths helps them shift to aspirational roles.\\n\\nVish: Could you elaborate on how integration of multiple standalone technology platforms in upskilling software platforms enhances the teaching and learning experience?\\nDr. Sheetal: The integration of standalone technology platforms provides an end-to-end learning experience. The interplay between course storefronts, CRM systems, or course enrollment systems that include payment gateway solutions, teaching and learning systems, assessments, and engagement platforms attracts learners, enhances the teaching & learning experience, and influences learner outcomes. This integration helps in creating a holistic learning experience.\\n\""
            ],
            "application/vnd.google.colaboratory.intrinsic+json": {
              "type": "string"
            }
          },
          "metadata": {},
          "execution_count": 69
        }
      ]
    },
    {
      "cell_type": "markdown",
      "source": [
        "# Generating ending and final output\n",
        "\n"
      ],
      "metadata": {
        "id": "MVV04zfAs7H8"
      }
    },
    {
      "cell_type": "code",
      "source": [
        "systemPrompt = \"\"\"You are an automated podcast script generator. \n",
        "Input is a text given as ContextText. \n",
        "Host name is Vish and guest name is Dr. Sheetal. You need to perform 3 activities. \n",
        "First Activity needs to be prefixed with Vish. Second activity needs to be prefixed with Dr. Sheetal. Third Activity needs to be prefixed with Vish. \n",
        "First Activity: Using key aspects in the text, generate closing remarks of podcast, summarizing outcomes. \n",
        "Second Activity: Guest needs to appreciate the host for the summary, thank the host and audience. \n",
        "Third Activity: Host to sign off professionally, bidding thank you to the guest and looking forward to audience participation for future podcasts.\n",
        "Do not output activity names. Keep the output conversational\"\"\"\n",
        "podcastPrompt = \"\"\"ContextText:\"\"\""
      ],
      "metadata": {
        "id": "z7nIBfi9kdJv"
      },
      "execution_count": 76,
      "outputs": []
    },
    {
      "cell_type": "code",
      "source": [
        "requestMessage = podcastPrompt + summaryFacts\n",
        "requestMessage"
      ],
      "metadata": {
        "id": "aDdbI11ilqQ0",
        "colab": {
          "base_uri": "https://localhost:8080/",
          "height": 127
        },
        "outputId": "14fdc66f-375d-40c8-9c54-81816482e17c"
      },
      "execution_count": 71,
      "outputs": [
        {
          "output_type": "execute_result",
          "data": {
            "text/plain": [
              "\"ContextText:The use of technology in education has the potential to upskill a future-ready workforce. Software platforms for upskilling integrate multiple technology platforms to provide an end-to-end learning experience, including course storefronts, CRM systems, or course enrollment systems with payment gateway solutions, teaching and learning systems, assessments, and engagement platforms. Technology can also reduce the cost of learner acquisition by allowing prospective learners to evaluate different learning platforms with a self-driven approach, providing a learner portal that facilitates testing the learning material, evaluating ROI, and providing flexibility in class schedules. Additionally, technology-driven skills mapping and gap analysis can shape personalized career paths by assessing learners' skills, identifying gaps and devising transformational paths for upskilling or reskilling.\""
            ],
            "application/vnd.google.colaboratory.intrinsic+json": {
              "type": "string"
            }
          },
          "metadata": {},
          "execution_count": 71
        }
      ]
    },
    {
      "cell_type": "code",
      "source": [
        "finalOutput = openai.ChatCompletion.create(model=\"gpt-3.5-turbo\",\n",
        "                                            messages=[{\"role\": \"system\", \"content\": systemPrompt},\n",
        "                                                      {\"role\": \"user\", \"content\": requestMessage}\n",
        "                                                      ]\n",
        "                                            )"
      ],
      "metadata": {
        "id": "WHdgbtfZlpF1"
      },
      "execution_count": 72,
      "outputs": []
    },
    {
      "cell_type": "code",
      "source": [
        "podcastclosingScript = finalOutput.choices[0].message.content"
      ],
      "metadata": {
        "id": "w7MTR0Nqic0l"
      },
      "execution_count": 73,
      "outputs": []
    },
    {
      "cell_type": "code",
      "source": [
        "podcastclosingScript"
      ],
      "metadata": {
        "colab": {
          "base_uri": "https://localhost:8080/",
          "height": 145
        },
        "id": "amEdhKs25wub",
        "outputId": "961bdaaa-51f9-4622-d759-2bae944808f3"
      },
      "execution_count": 74,
      "outputs": [
        {
          "output_type": "execute_result",
          "data": {
            "text/plain": [
              "'The potential of technology in education and upskilling has been highlighted in our discussion with Dr. Sheetal. We learned about the integration of multiple technology platforms for an end-to-end learning experience, which can reduce the cost of learner acquisition and shape personalized career paths. With technology-driven skills mapping and gap analysis, learners can devise transformational paths for upskilling and reskilling. This discussion emphasizes the crucial role of technology in preparing a future-ready workforce. \\n\\nDr. Sheetal appreciates the summary and would like to thank Vish and the audience for the opportunity to discuss this important topic. She believes that technology can enable education to be more accessible and inclusive, and hopes that this discussion inspires learners to take advantage of the opportunities available through technology. \\n\\nWe thank Dr. Sheetal for sharing her insights on the potential of technology in education and upskilling. We urge our audience to take advantage of the opportunities available through technology, and look forward to your participation in our future podcasts. Thank you for listening.'"
            ],
            "application/vnd.google.colaboratory.intrinsic+json": {
              "type": "string"
            }
          },
          "metadata": {},
          "execution_count": 74
        }
      ]
    },
    {
      "cell_type": "code",
      "source": [
        "podcastScript = podcastIntroText+  podcastFacts + podcastclosingScript\n",
        "podcastScript"
      ],
      "metadata": {
        "id": "qmnTMNWQcWSR",
        "colab": {
          "base_uri": "https://localhost:8080/",
          "height": 145
        },
        "outputId": "c2d744d8-b41f-4318-f107-18b4dd16fe48"
      },
      "execution_count": 75,
      "outputs": [
        {
          "output_type": "execute_result",
          "data": {
            "text/plain": [
              "\"Vish: Hello and welcome everyone to our show. This is Vish, and I am excited to have you all here. For those of you who are new, I am a host and content creator who loves to have insightful discussions with experts. \\n\\nVish: Today, we have Dr. Sheetal with us to talk about the potential of technology in education. We'll be exploring how software platforms can provide an end-to-end learning experience, reduce learner acquisition costs, and personalize career paths. \\n\\nVish: Dr. Sheetal, we're thrilled to have you on the show. To kick things off, can you share with us: \\n\\n- How can technology help learners evaluate different learning platforms?\\n- What are the benefits of using technology for personalized career paths?\\n- Can you tell us more about technology-driven skills mapping and gap analysis?\\n\\nDr. Sheetal: Vish, thank you for having me on the show. I'm excited to be here and share my insights with your audience. Regarding your questions, technology can provide a self-driven approach for learners to evaluate learning platforms that fit their needs and preferences. Personalized career paths allow learners to identify their skills gaps and take up courses or programs that address those gaps, leading them to upskilling and reskilling transformation paths. Lastly, technology-driven skills mapping can provide insights for learners to effectively manage their learning journey by identifying their key strengths and competencies.Vish: How can technology help in reducing the cost of learner acquisition in the upskilling business?\\nDr. Sheetal: Technology can provide a self-driven approach for prospective learners to evaluate learning platforms, reducing the cost of customer acquisition. Learner portals equipped with toolsets to evaluate ROI, fast-track completion, and flexible class schedules can provide a feel of the course before enrolment, helping learners make a well-informed decision.\\n\\nVish: How can personalized career paths be shaped for the learners using educational technology?\\nDr. Sheetal: Tech-driven skill mapping and gap analysis can maintain a skills repository and identify gaps in learners' skills and chalk out a personalized path for upskilling or reskilling. Initial assessments and identification of learners' skills paired with a mechanism for transformational paths helps them shift to aspirational roles.\\n\\nVish: Could you elaborate on how integration of multiple standalone technology platforms in upskilling software platforms enhances the teaching and learning experience?\\nDr. Sheetal: The integration of standalone technology platforms provides an end-to-end learning experience. The interplay between course storefronts, CRM systems, or course enrollment systems that include payment gateway solutions, teaching and learning systems, assessments, and engagement platforms attracts learners, enhances the teaching & learning experience, and influences learner outcomes. This integration helps in creating a holistic learning experience.\\nThe potential of technology in education and upskilling has been highlighted in our discussion with Dr. Sheetal. We learned about the integration of multiple technology platforms for an end-to-end learning experience, which can reduce the cost of learner acquisition and shape personalized career paths. With technology-driven skills mapping and gap analysis, learners can devise transformational paths for upskilling and reskilling. This discussion emphasizes the crucial role of technology in preparing a future-ready workforce. \\n\\nDr. Sheetal appreciates the summary and would like to thank Vish and the audience for the opportunity to discuss this important topic. She believes that technology can enable education to be more accessible and inclusive, and hopes that this discussion inspires learners to take advantage of the opportunities available through technology. \\n\\nWe thank Dr. Sheetal for sharing her insights on the potential of technology in education and upskilling. We urge our audience to take advantage of the opportunities available through technology, and look forward to your participation in our future podcasts. Thank you for listening.\""
            ],
            "application/vnd.google.colaboratory.intrinsic+json": {
              "type": "string"
            }
          },
          "metadata": {},
          "execution_count": 75
        }
      ]
    },
    {
      "cell_type": "code",
      "source": [],
      "metadata": {
        "id": "g_lnC3ak8iJ1"
      },
      "execution_count": 75,
      "outputs": []
    },
    {
      "cell_type": "markdown",
      "source": [
        "Check the output script that your prompt generated and make necessary changes if required. Prompt design is iterative in nature and don't be shy to explore different styles."
      ],
      "metadata": {
        "id": "jzyN3RDZxUwE"
      }
    },
    {
      "cell_type": "markdown",
      "source": [
        "# Section 4 - Generating the voice and putting the podcast together\n"
      ],
      "metadata": {
        "id": "bpBzLCEjtCZb"
      }
    },
    {
      "cell_type": "code",
      "source": [
        "!pip install elevenlabs"
      ],
      "metadata": {
        "id": "VlzCQKs8akA3",
        "colab": {
          "base_uri": "https://localhost:8080/"
        },
        "outputId": "8c63d213-a7a0-4a91-d7ba-33baa71aedd3"
      },
      "execution_count": 46,
      "outputs": [
        {
          "output_type": "stream",
          "name": "stdout",
          "text": [
            "Looking in indexes: https://pypi.org/simple, https://us-python.pkg.dev/colab-wheels/public/simple/\n",
            "Collecting elevenlabs\n",
            "  Downloading elevenlabs-0.2.16-py3-none-any.whl (9.5 kB)\n",
            "Requirement already satisfied: pydantic>=1.10 in /usr/local/lib/python3.10/dist-packages (from elevenlabs) (1.10.7)\n",
            "Requirement already satisfied: ipython>=7.0 in /usr/local/lib/python3.10/dist-packages (from elevenlabs) (7.34.0)\n",
            "Requirement already satisfied: requests>=2.20 in /usr/local/lib/python3.10/dist-packages (from elevenlabs) (2.27.1)\n",
            "Requirement already satisfied: setuptools>=18.5 in /usr/local/lib/python3.10/dist-packages (from ipython>=7.0->elevenlabs) (67.7.2)\n",
            "Collecting jedi>=0.16 (from ipython>=7.0->elevenlabs)\n",
            "  Downloading jedi-0.18.2-py2.py3-none-any.whl (1.6 MB)\n",
            "\u001b[2K     \u001b[90m━━━━━━━━━━━━━━━━━━━━━━━━━━━━━━━━━━━━━━━━\u001b[0m \u001b[32m1.6/1.6 MB\u001b[0m \u001b[31m21.9 MB/s\u001b[0m eta \u001b[36m0:00:00\u001b[0m\n",
            "\u001b[?25hRequirement already satisfied: decorator in /usr/local/lib/python3.10/dist-packages (from ipython>=7.0->elevenlabs) (4.4.2)\n",
            "Requirement already satisfied: pickleshare in /usr/local/lib/python3.10/dist-packages (from ipython>=7.0->elevenlabs) (0.7.5)\n",
            "Requirement already satisfied: traitlets>=4.2 in /usr/local/lib/python3.10/dist-packages (from ipython>=7.0->elevenlabs) (5.7.1)\n",
            "Requirement already satisfied: prompt-toolkit!=3.0.0,!=3.0.1,<3.1.0,>=2.0.0 in /usr/local/lib/python3.10/dist-packages (from ipython>=7.0->elevenlabs) (3.0.38)\n",
            "Requirement already satisfied: pygments in /usr/local/lib/python3.10/dist-packages (from ipython>=7.0->elevenlabs) (2.14.0)\n",
            "Requirement already satisfied: backcall in /usr/local/lib/python3.10/dist-packages (from ipython>=7.0->elevenlabs) (0.2.0)\n",
            "Requirement already satisfied: matplotlib-inline in /usr/local/lib/python3.10/dist-packages (from ipython>=7.0->elevenlabs) (0.1.6)\n",
            "Requirement already satisfied: pexpect>4.3 in /usr/local/lib/python3.10/dist-packages (from ipython>=7.0->elevenlabs) (4.8.0)\n",
            "Requirement already satisfied: typing-extensions>=4.2.0 in /usr/local/lib/python3.10/dist-packages (from pydantic>=1.10->elevenlabs) (4.5.0)\n",
            "Requirement already satisfied: urllib3<1.27,>=1.21.1 in /usr/local/lib/python3.10/dist-packages (from requests>=2.20->elevenlabs) (1.26.15)\n",
            "Requirement already satisfied: certifi>=2017.4.17 in /usr/local/lib/python3.10/dist-packages (from requests>=2.20->elevenlabs) (2022.12.7)\n",
            "Requirement already satisfied: charset-normalizer~=2.0.0 in /usr/local/lib/python3.10/dist-packages (from requests>=2.20->elevenlabs) (2.0.12)\n",
            "Requirement already satisfied: idna<4,>=2.5 in /usr/local/lib/python3.10/dist-packages (from requests>=2.20->elevenlabs) (3.4)\n",
            "Requirement already satisfied: parso<0.9.0,>=0.8.0 in /usr/local/lib/python3.10/dist-packages (from jedi>=0.16->ipython>=7.0->elevenlabs) (0.8.3)\n",
            "Requirement already satisfied: ptyprocess>=0.5 in /usr/local/lib/python3.10/dist-packages (from pexpect>4.3->ipython>=7.0->elevenlabs) (0.7.0)\n",
            "Requirement already satisfied: wcwidth in /usr/local/lib/python3.10/dist-packages (from prompt-toolkit!=3.0.0,!=3.0.1,<3.1.0,>=2.0.0->ipython>=7.0->elevenlabs) (0.2.6)\n",
            "Installing collected packages: jedi, elevenlabs\n",
            "Successfully installed elevenlabs-0.2.16 jedi-0.18.2\n"
          ]
        }
      ]
    },
    {
      "cell_type": "code",
      "source": [
        "from elevenlabs import set_api_key\n",
        "\n",
        "set_api_key(getpass('Enter your ELEVEN_LABS_API_KEY  '))"
      ],
      "metadata": {
        "id": "R3nkxWvfav2v",
        "colab": {
          "base_uri": "https://localhost:8080/"
        },
        "outputId": "ab6f0582-d6de-4454-c8e0-ba5fec8f6a91"
      },
      "execution_count": 47,
      "outputs": [
        {
          "name": "stdout",
          "output_type": "stream",
          "text": [
            "Enter your ELEVEN_LABS_API_KEY  ··········\n"
          ]
        }
      ]
    },
    {
      "cell_type": "code",
      "source": [
        "from elevenlabs import generate\n",
        "\n",
        "def createPodcast(podcastScript, speakerName1, speakerChoice1, speakerName2, speakerChoice2):\n",
        "  genPodcast = []\n",
        "  podcastLines = podcastScript.split('\\n\\n')\n",
        "  podcastLineNumber = 0\n",
        "  for line in podcastLines:\n",
        "    \n",
        "    if podcastLineNumber % 2 == 0:\n",
        "      speakerChoice = speakerChoice1\n",
        "      line = line.replace(speakerName1+\":\", '')\n",
        "    else:\n",
        "      speakerChoice = speakerChoice2\n",
        "      line = line.replace(speakerName2+\":\", '')\n",
        "    genVoice = generate(text=line, voice=speakerChoice, model=\"eleven_monolingual_v1\")\n",
        "    genPodcast.append(genVoice)\n",
        "    podcastLineNumber += 1\n",
        "  return genPodcast"
      ],
      "metadata": {
        "id": "9RJXVVUmUDCY"
      },
      "execution_count": 48,
      "outputs": []
    },
    {
      "cell_type": "code",
      "source": [
        "podcastLines = podcastScript.split('\\n\\n')\n",
        "genPodcast = []\n",
        "for line in podcastLines:\n",
        "  print(line)\n",
        "  if (line.strip().startswith(\"Vish\") == True):\n",
        "    speakerChoice = \"Sam\"\n",
        "    line = line.replace(\"Vish:\", '')\n",
        "  else:\n",
        "    speakerChoice = \"Bella\"\n",
        "    line = line.strip().replace(\"Dr. Sheetal:\", '') \n",
        "   genVoice = generate(text=line, voice=speakerChoice, model=\"eleven_monolingual_v1\")\n",
        "   genPodcast.append(genVoice)\n"
      ],
      "metadata": {
        "id": "vZny2fwFLTAV"
      },
      "execution_count": null,
      "outputs": []
    },
    {
      "cell_type": "code",
      "source": [
        "speakerName1 = \"Vish\"\n",
        "speakerChoice1 = \"Sam\"\n",
        "speakerName2 = \"Dr. Sheetal\"\n",
        "speakerChoice2 = \"Bella\"\n",
        "genPodcast = createPodcast(podcastScript, speakerName1, speakerChoice1, speakerName2, speakerChoice2)"
      ],
      "metadata": {
        "id": "WmNZeTbIUXYe"
      },
      "execution_count": null,
      "outputs": []
    },
    {
      "cell_type": "code",
      "source": [
        "type(genPodcast)"
      ],
      "metadata": {
        "id": "NfgLuOGGSfBP",
        "colab": {
          "base_uri": "https://localhost:8080/"
        },
        "outputId": "91086084-e882-4d65-bbf1-51d5477bfa95"
      },
      "execution_count": null,
      "outputs": [
        {
          "output_type": "execute_result",
          "data": {
            "text/plain": [
              "list"
            ]
          },
          "metadata": {},
          "execution_count": 63
        }
      ]
    },
    {
      "cell_type": "code",
      "source": [
        "with open(\"/content/drive/MyDrive/Learning/EDTech Blog Podcast.mpeg\", \"wb\") as f:\n",
        "  for pod in genPodcast:\n",
        "    f.write(pod)"
      ],
      "metadata": {
        "id": "DmsUr94_rZ8k"
      },
      "execution_count": 56,
      "outputs": []
    }
  ]
}